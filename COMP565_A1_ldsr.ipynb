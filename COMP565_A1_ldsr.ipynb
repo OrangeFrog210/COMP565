{
 "cells": [
  {
   "cell_type": "code",
   "execution_count": 1,
   "id": "b9be47a5",
   "metadata": {},
   "outputs": [
    {
     "data": {
      "text/plain": [
       "'\\nCOMP565 Assignment1 Question 2: Implementing LD score regression\\n\\nDue: 21-September, 2021.\\nYumika Shiba\\n260863694\\n\\n---------\\n# Input: \\n#1. Marginal statistics\\n#2. LD matrix\\n\\n# Assume:\\n#1. no population stratification\\n#2. Phenotype (y) and genotype (X) are standarized\\n\\n# Task\\n# To implement basic LD score regression algorithm\\n# Purpose: To estimate the heritability of the phenotype\\n'"
      ]
     },
     "execution_count": 1,
     "metadata": {},
     "output_type": "execute_result"
    }
   ],
   "source": [
    " \"\"\"\n",
    " COMP565 Assignment1 Question 2: Implementing LD score regression\n",
    " \n",
    " Due: 21-September, 2021.\n",
    " Yumika Shiba\n",
    " 260863694\n",
    " \n",
    "---------\n",
    "# Input: \n",
    "#1. Marginal statistics\n",
    "#2. LD matrix\n",
    "\n",
    "# Assume:\n",
    "#1. no population stratification\n",
    "#2. Phenotype (y) and genotype (X) are standarized\n",
    "\n",
    "# Task\n",
    "# To implement basic LD score regression algorithm\n",
    "# Purpose: To estimate the heritability of the phenotype\n",
    " \"\"\""
   ]
  },
  {
   "cell_type": "code",
   "execution_count": 2,
   "id": "2456c53e",
   "metadata": {},
   "outputs": [],
   "source": [
    "import pandas as pd\n",
    "import numpy as np\n",
    "from scipy import optimize\n",
    "from matplotlib import pyplot as plt\n",
    "from sklearn.linear_model import LinearRegression"
   ]
  },
  {
   "cell_type": "code",
   "execution_count": 3,
   "id": "b4a133b1",
   "metadata": {},
   "outputs": [],
   "source": [
    "fIn_marginal = \"beta_marginal.csv\"\n",
    "fIn_LD = \"LD.csv\""
   ]
  },
  {
   "cell_type": "code",
   "execution_count": 4,
   "id": "02f2aa89",
   "metadata": {},
   "outputs": [],
   "source": [
    "# Read in the data into pandas dataframes\n",
    "df_marginal = pd.read_csv(fIn_marginal)\n",
    "df_LD = pd.read_csv(fIn_LD)"
   ]
  },
  {
   "cell_type": "code",
   "execution_count": 5,
   "id": "cacfd2c5",
   "metadata": {},
   "outputs": [
    {
     "data": {
      "text/plain": [
       "'\\nUsed for my convenience. Can be ignored.\\n---------\\n# Check the dimension of the dataset\\nprint(df_marginal.shape)\\nprint(df_LD.shape)\\n\\n# Check column names\\nprint(df_marginal.columns)\\nprint(\"------\")  # a line for increasing readibility\\nprint(df_LD.columns)\\n\\n# Taking a look at the data\\nprint(df_marginal.head())\\nprint(\"------\")  # a line for increasing readibility\\nprint(df_LD.head())\\n'"
      ]
     },
     "execution_count": 5,
     "metadata": {},
     "output_type": "execute_result"
    }
   ],
   "source": [
    "\"\"\"\n",
    "Used for my convenience. Can be ignored.\n",
    "---------\n",
    "# Check the dimension of the dataset\n",
    "print(df_marginal.shape)\n",
    "print(df_LD.shape)\n",
    "\n",
    "# Check column names\n",
    "print(df_marginal.columns)\n",
    "print(\"------\")  # a line for increasing readibility\n",
    "print(df_LD.columns)\n",
    "\n",
    "# Taking a look at the data\n",
    "print(df_marginal.head())\n",
    "print(\"------\")  # a line for increasing readibility\n",
    "print(df_LD.head())\n",
    "\"\"\""
   ]
  },
  {
   "cell_type": "code",
   "execution_count": 6,
   "id": "7ea9649a",
   "metadata": {},
   "outputs": [],
   "source": [
    "# convert the dataframes to numpy arrays\n",
    "arr_mgStats = df_marginal[\"V1\"].to_numpy()\n",
    "#print(arr_mgStats)\n",
    "\n",
    "arr_LD = df_LD.to_numpy()[:, 1:]\n",
    "#print(arr_LD)"
   ]
  },
  {
   "cell_type": "code",
   "execution_count": 7,
   "id": "3169d453",
   "metadata": {},
   "outputs": [],
   "source": [
    "# Checking that row sums and column sums match (since the matrix is symmetric)\n",
    "# print(np.sum(a=arr_LD, axis=0))\n",
    "# print(np.sum(a=arr_LD, axis=1))"
   ]
  },
  {
   "cell_type": "code",
   "execution_count": 8,
   "id": "9542ae68",
   "metadata": {},
   "outputs": [
    {
     "name": "stdout",
     "output_type": "stream",
     "text": [
      "Estimate of heritability ((h_^)**2) is:  [0.19017123]\n"
     ]
    }
   ],
   "source": [
    "# Estimating heritability by implementing the basic LD score regression algorithm \n",
    "N = 1000\n",
    "M = 4268\n",
    "x_val = np.dot(N/M, (np.sum(a=np.square(arr_LD), axis=0))).reshape((-1, 1))\n",
    "y_val = N * (np.square(arr_mgStats)) - 1\n",
    "y_val2 = np.dot(N, (np.square(arr_mgStats))) - 1\n",
    "\n",
    "model = LinearRegression(fit_intercept=False).fit(x_val, y_val, )  # fix the intercept to 1\n",
    "print(\"Estimate of heritability ((h_^)**2) is: \", model.coef_)  # model.coef_ = slope"
   ]
  },
  {
   "cell_type": "code",
   "execution_count": 9,
   "id": "07ed2aab",
   "metadata": {},
   "outputs": [
    {
     "name": "stdout",
     "output_type": "stream",
     "text": [
      "Estimate of heritability ((h_^)**2) is:  0.19017123286115678\n"
     ]
    }
   ],
   "source": [
    "# Alternative\n",
    "def f(h):\n",
    "    return np.sum(np.square(np.dot(N, (np.square(arr_mgStats))) - np.dot(N/M, (np.square(h)) * (np.sum(a=np.square(arr_LD), axis=0)))-1))\n",
    "    #return np.sum(np.square(np.dot(N, (np.square(arr_mgStats))) - np.dot((np.square(h)), (N/M) * (np.sum(a=np.square(arr_LD), axis=0)))-1))\n",
    "\n",
    "# Declare and initialize variables\n",
    "N = 1000 # Number of SNPs\n",
    "M = 4268 # Number of individuals\n",
    "\n",
    "# Optimizing the objective function derived from LD score regression\n",
    "result = optimize.minimize_scalar(f)\n",
    "result.success\n",
    "\n",
    "h_min = result.x\n",
    "print(\"Estimate of heritability ((h_^)**2) is: \", h_min**2)"
   ]
  },
  {
   "cell_type": "code",
   "execution_count": 10,
   "id": "f1894098",
   "metadata": {},
   "outputs": [
    {
     "name": "stdout",
     "output_type": "stream",
     "text": [
      "Estimate of heritability ((h_^)**2) is:  [0.19017123]\n",
      "Estimate of heritability ((h_^)**2) is:  0.19017123286115678\n"
     ]
    }
   ],
   "source": [
    "\"\"\"\n",
    " COMP565 Assignment1 Question 2: Implementing LD score regression\n",
    " \n",
    " Due: 21-September, 2021.\n",
    " Yumika Shiba\n",
    " 260863694\n",
    " \n",
    "---------\n",
    "# Input: \n",
    "#1. Marginal statistics\n",
    "#2. LD matrix\n",
    "\n",
    "# Assume:\n",
    "#1. no population stratification\n",
    "#2. Phenotype (y) and genotype (X) are standarized\n",
    "\n",
    "# Task\n",
    "# To implement basic LD score regression algorithm\n",
    "# Purpose: To estimate the heritability of the phenotype\n",
    "\"\"\"\n",
    "\n",
    "import pandas as pd\n",
    "import numpy as np\n",
    "from scipy import optimize\n",
    "from matplotlib import pyplot as plt\n",
    "from sklearn.linear_model import LinearRegression\n",
    "\n",
    "\n",
    "fIn_marginal = \"beta_marginal.csv\"\n",
    "fIn_LD = \"LD.csv\"\n",
    "\n",
    "\n",
    "# Read in the data into pandas dataframes\n",
    "df_marginal = pd.read_csv(fIn_marginal)\n",
    "df_LD = pd.read_csv(fIn_LD)\n",
    "\n",
    "\n",
    "\"\"\"\n",
    "Used for my convenience. Can be ignored.\n",
    "---------\n",
    "# Check the dimension of the dataset\n",
    "print(df_marginal.shape)\n",
    "print(df_LD.shape)\n",
    "\n",
    "# Check column names\n",
    "print(df_marginal.columns)\n",
    "print(\"------\")  # a line for increasing readibility\n",
    "print(df_LD.columns)\n",
    "\n",
    "# Taking a look at the data\n",
    "print(df_marginal.head())\n",
    "print(\"------\")  # a line for increasing readibility\n",
    "print(df_LD.head())\n",
    "\"\"\"\n",
    "\n",
    "\n",
    "# convert the dataframes to numpy arrays\n",
    "arr_mgStats = df_marginal[\"V1\"].to_numpy()\n",
    "#print(arr_mgStats)\n",
    "\n",
    "arr_LD = df_LD.to_numpy()[:, 1:]\n",
    "#print(arr_LD)\n",
    "\n",
    "\n",
    "# Checking that row sums and column sums match (since the matrix is symmetric)\n",
    "# print(np.sum(a=arr_LD, axis=0))\n",
    "# print(np.sum(a=arr_LD, axis=1))\n",
    "\n",
    "# Estimating heritability by implementing the basic LD score regression algorithm \n",
    "N = 1000\n",
    "M = 4268\n",
    "x_val = np.dot(N/M, (np.sum(a=np.square(arr_LD), axis=0))).reshape((-1, 1))\n",
    "y_val = N * (np.square(arr_mgStats)) - 1\n",
    "y_val2 = np.dot(N, (np.square(arr_mgStats))) - 1\n",
    "\n",
    "model = LinearRegression(fit_intercept=False).fit(x_val, y_val, )  # fix the intercept to 1\n",
    "print(\"Estimate of heritability ((h_^)**2) is: \", model.coef_)  # model.coef_ = slope\n",
    "\n",
    "\n",
    "# Alternative\n",
    "def f(h):\n",
    "    return np.sum(np.square(np.dot(N, (np.square(arr_mgStats))) - np.dot(N/M, (np.square(h)) * (np.sum(a=np.square(arr_LD), axis=0)))-1))\n",
    "    #return np.sum(np.square(np.dot(N, (np.square(arr_mgStats))) - np.dot((np.square(h)), (N/M) * (np.sum(a=np.square(arr_LD), axis=0)))-1))\n",
    "\n",
    "# Declare and initialize variables\n",
    "N = 1000 # Number of SNPs\n",
    "M = 4268 # Number of individuals\n",
    "\n",
    "# Optimizing the objective function derived from LD score regression\n",
    "result = optimize.minimize_scalar(f)\n",
    "result.success\n",
    "\n",
    "h_min = result.x\n",
    "print(\"Estimate of heritability ((h_^)**2) is: \", h_min**2)\n",
    "\n"
   ]
  },
  {
   "cell_type": "code",
   "execution_count": null,
   "id": "27af1554",
   "metadata": {},
   "outputs": [],
   "source": []
  }
 ],
 "metadata": {
  "kernelspec": {
   "display_name": "Python 3",
   "language": "python",
   "name": "python3"
  },
  "language_info": {
   "codemirror_mode": {
    "name": "ipython",
    "version": 3
   },
   "file_extension": ".py",
   "mimetype": "text/x-python",
   "name": "python",
   "nbconvert_exporter": "python",
   "pygments_lexer": "ipython3",
   "version": "3.8.8"
  }
 },
 "nbformat": 4,
 "nbformat_minor": 5
}
